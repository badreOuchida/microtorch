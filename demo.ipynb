{
 "cells": [
  {
   "cell_type": "code",
   "execution_count": 44,
   "id": "9decd411-1887-4b84-bbbe-e2e6d80fc5f4",
   "metadata": {},
   "outputs": [],
   "source": [
    "from microtorch import nn , Optimizers , Loss\n",
    "import numpy as np\n",
    "\n",
    "import random \n",
    "\n",
    "\n",
    "\n",
    "xs = [\n",
    "  [2.0, 3.0, -1.0],\n",
    "  [3.0, -1.0, 0.5],\n",
    "  [0.5, 1.0, 1.0],\n",
    "  [1.0, 1.0, -1.0],\n",
    "]\n",
    "ys = [1.0, -1.0, -1.0, 1.0]\n"
   ]
  },
  {
   "cell_type": "code",
   "execution_count": 45,
   "id": "ad0a14c0-e324-411a-9a67-9a7fb796f95c",
   "metadata": {},
   "outputs": [],
   "source": [
    "class SimpleNeuralNetwork(nn.Model): \n",
    "    def __init__(self,nin , nhl, nout = 1) :\n",
    "        super().__init__()\n",
    "        self.size = [ nin ] + nhl + [nout]\n",
    "        self.layers = np.array([nn.Layer(self.size[i-1], self.size[i] , activation = \"tanh\") for i in range(1,len(self.size))])\n",
    "        \n",
    "    def forward(self,x) :\n",
    "        for layer in self.layers : \n",
    "            x = layer(x)\n",
    "            #print(\"x : \" , x)\n",
    "        return x #x[0] if x.shape[0] == 1 else x\n",
    "    def parameters(self) : \n",
    "        return np.concatenate([n.parameters() for n in self.layers])"
   ]
  },
  {
   "cell_type": "code",
   "execution_count": 46,
   "id": "3334d4dc-1c0b-46d9-abcf-e8a8fbb2c4f8",
   "metadata": {},
   "outputs": [
    {
     "data": {
      "text/plain": [
       "[Value(data=-0.9305296452242258),\n",
       " Value(data=-0.9948259016706686),\n",
       " Value(data=-0.9897853579904063),\n",
       " Value(data=-0.9297413099399399)]"
      ]
     },
     "execution_count": 46,
     "metadata": {},
     "output_type": "execute_result"
    }
   ],
   "source": [
    "n = SimpleNeuralNetwork(3, [4, 3] , 1)\n",
    "\n",
    "# forward pass\n",
    "y_pred = n(xs)\n",
    "y_pred"
   ]
  },
  {
   "cell_type": "code",
   "execution_count": 47,
   "id": "97a08940-11f5-4337-b3bb-cfe9ad116fc0",
   "metadata": {},
   "outputs": [
    {
     "name": "stdout",
     "output_type": "stream",
     "text": [
      "0 1.862744336145799\n",
      "1 1.8157408851300023\n",
      "2 1.7319426024795945\n",
      "3 1.5606333322149029\n",
      "4 1.1631321296502208\n",
      "5 0.44222555704346916\n",
      "6 0.12114098437946354\n",
      "7 0.07511820168568331\n",
      "8 0.0543165884137007\n",
      "9 0.04243285274768152\n",
      "10 0.034799772768077886\n",
      "11 0.029502474834641745\n",
      "12 0.02561922560122685\n",
      "13 0.022654225401911688\n",
      "14 0.0203180179620994\n",
      "15 0.018430652819308595\n",
      "16 0.01687455461706805\n",
      "17 0.015569742062202524\n",
      "18 0.014459962380076411\n",
      "19 0.013504526291604702\n",
      "20 0.012673289641676936\n",
      "21 0.011943454820064151\n",
      "22 0.01129746730172625\n",
      "23 0.010721594226662608\n",
      "24 0.010204940666847372\n",
      "25 0.00973875427396187\n",
      "26 0.009315924429758468\n",
      "27 0.008930615350996011\n",
      "28 0.008577993197972707\n",
      "29 0.008254020279822354\n",
      "30 0.007955297895236059\n",
      "31 0.007678944926075021\n",
      "32 0.007422503054435372\n",
      "33 0.007183862041147302\n",
      "34 0.006961200287184669\n",
      "35 0.00675293715605086\n",
      "36 0.006557694432220047\n",
      "37 0.006374264938866114\n",
      "38 0.006201586811765776\n",
      "39 0.006038722276061135\n"
     ]
    }
   ],
   "source": [
    "optimizer = Optimizers.SGD(n.parameters,0.2) \n",
    "\n",
    "epochs = 40\n",
    "\n",
    "for epoch in range(epochs):\n",
    "  \n",
    "  # forward pass\n",
    "  outputs = n(xs)\n",
    "  loss = Loss.MSELoss(ys,outputs)\n",
    "  # backward pass\n",
    "  optimizer.zero_grad()\n",
    "  \n",
    "  loss.backward()\n",
    "  \n",
    "  # update\n",
    "  optimizer.step()\n",
    "  \n",
    "  print(epoch, loss.data)"
   ]
  },
  {
   "cell_type": "code",
   "execution_count": 48,
   "id": "73d46067-abf7-4ed1-9832-eb60abcd2f16",
   "metadata": {},
   "outputs": [
    {
     "data": {
      "text/plain": [
       "[Value(data=0.9119802745714841),\n",
       " Value(data=-0.9628238802868866),\n",
       " Value(data=-0.9249723670837443),\n",
       " Value(data=0.906294725381303)]"
      ]
     },
     "execution_count": 48,
     "metadata": {},
     "output_type": "execute_result"
    }
   ],
   "source": [
    "y_pred = n(xs)\n",
    "y_pred"
   ]
  }
 ],
 "metadata": {
  "kernelspec": {
   "display_name": "Python 3 (ipykernel)",
   "language": "python",
   "name": "python3"
  },
  "language_info": {
   "codemirror_mode": {
    "name": "ipython",
    "version": 3
   },
   "file_extension": ".py",
   "mimetype": "text/x-python",
   "name": "python",
   "nbconvert_exporter": "python",
   "pygments_lexer": "ipython3",
   "version": "3.9.5"
  }
 },
 "nbformat": 4,
 "nbformat_minor": 5
}
